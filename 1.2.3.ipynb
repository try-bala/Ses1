{
 "cells": [
  {
   "cell_type": "code",
   "execution_count": 22,
   "metadata": {},
   "outputs": [
    {
     "name": "stdout",
     "output_type": "stream",
     "text": [
      "Enter the word to reverse : Acadgild\n",
      "dligdacA\n",
      "dligdacA\n",
      "dligdacA\n"
     ]
    }
   ],
   "source": [
    "# Reverse the user inputted word\n",
    "\n",
    "word = input (\"Enter the word to reverse : \")\n",
    "\n",
    "rev_word1 = word[::-1]\n",
    "print(rev_word1)\n",
    "\n",
    "rev_word2 = word[-1:-len(word)-1:-1]\n",
    "print(rev_word2)\n",
    "\n",
    "rev_word3 = \"\"\n",
    "for i in word:\n",
    "    rev_word3 = i + rev_word3\n",
    "print(rev_word3)"
   ]
  }
 ],
 "metadata": {
  "kernelspec": {
   "display_name": "Python 3",
   "language": "python",
   "name": "python3"
  },
  "language_info": {
   "codemirror_mode": {
    "name": "ipython",
    "version": 3
   },
   "file_extension": ".py",
   "mimetype": "text/x-python",
   "name": "python",
   "nbconvert_exporter": "python",
   "pygments_lexer": "ipython3",
   "version": "3.6.5"
  }
 },
 "nbformat": 4,
 "nbformat_minor": 2
}
