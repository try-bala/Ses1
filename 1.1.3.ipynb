{
 "cells": [
  {
   "cell_type": "code",
   "execution_count": 16,
   "metadata": {},
   "outputs": [
    {
     "name": "stdout",
     "output_type": "stream",
     "text": [
      "*\n",
      "**\n",
      "***\n",
      "****\n",
      "*****\n",
      "****\n",
      "***\n",
      "**\n",
      "*\n"
     ]
    }
   ],
   "source": [
    "# Print pattern using nested for loop\n",
    "\n",
    "pat = \"\"\n",
    "for i in range(1,5):\n",
    "    for j in range(1,i+1):\n",
    "        pat += \"*\"\n",
    "    print(pat)\n",
    "    pat = \"\"\n",
    "    \n",
    "for i in range(6,1,-1):\n",
    "    for j in range(1,i):\n",
    "        pat += \"*\"\n",
    "    print(pat)\n",
    "    pat = \"\"\n"
   ]
  }
 ],
 "metadata": {
  "kernelspec": {
   "display_name": "Python 3",
   "language": "python",
   "name": "python3"
  },
  "language_info": {
   "codemirror_mode": {
    "name": "ipython",
    "version": 3
   },
   "file_extension": ".py",
   "mimetype": "text/x-python",
   "name": "python",
   "nbconvert_exporter": "python",
   "pygments_lexer": "ipython3",
   "version": "3.6.5"
  }
 },
 "nbformat": 4,
 "nbformat_minor": 2
}
