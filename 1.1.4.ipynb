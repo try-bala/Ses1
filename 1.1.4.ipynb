{
 "cells": [
  {
   "cell_type": "code",
   "execution_count": 1,
   "metadata": {},
   "outputs": [
    {
     "name": "stdout",
     "output_type": "stream",
     "text": [
      "Volume of the sphere : 905.142857 cm^3\n"
     ]
    }
   ],
   "source": [
    "# volume of a sphere with diameter 12 cm. Formula: V=4/3 * π * r^3\n",
    "\n",
    "diameter = 12\n",
    "pi = 22/7\n",
    "radius = diameter/2\n",
    "\n",
    "volume = (4/3) * pi * (radius**3)\n",
    "\n",
    "print(\"Volume of the sphere : %f cm^3\" % (volume))"
   ]
  }
 ],
 "metadata": {
  "kernelspec": {
   "display_name": "Python 3",
   "language": "python",
   "name": "python3"
  },
  "language_info": {
   "codemirror_mode": {
    "name": "ipython",
    "version": 3
   },
   "file_extension": ".py",
   "mimetype": "text/x-python",
   "name": "python",
   "nbconvert_exporter": "python",
   "pygments_lexer": "ipython3",
   "version": "3.6.5"
  }
 },
 "nbformat": 4,
 "nbformat_minor": 2
}
